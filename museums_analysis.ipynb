{
 "cells": [
  {
   "cell_type": "code",
   "execution_count": 42,
   "metadata": {},
   "outputs": [],
   "source": [
    "import pandas as pd\n",
    "import numpy as np\n",
    "import matplotlib.pyplot as plt\n",
    "import os"
   ]
  },
  {
   "cell_type": "code",
   "execution_count": 78,
   "metadata": {},
   "outputs": [
    {
     "name": "stdout",
     "output_type": "stream",
     "text": [
      "(7431, 57)\n",
      "['MID' 'DISCIPL' 'EIN' 'CO_LOC_RES' 'NTEEC' 'DUNS' 'NAICS' 'COMMONNAME'\n",
      " 'LEGALNAME' 'ALTNAME' 'AKADBA' 'ADSTREET' 'ADCITY' 'ADSTATE' 'ADZIP'\n",
      " 'ADZIP5' 'PHSTREET' 'PHCITY' 'PHSTATE' 'PHZIP' 'PHZIP5' 'PHONE' 'WEBURL'\n",
      " 'IRS_NAME15' 'TAXPER15' 'INCOMECD15' 'INCOME15' 'REVENUE15'\n",
      " 'IRS_STREET15' 'IRS_CITY15' 'IRS_STATE15' 'IRS_ZIP15' 'RULEDATE15'\n",
      " 'IPEDS' 'INSTNAME' 'INSTCITY' 'INSTST' 'LONGITUDE' 'LATITUDE' 'AAMREG'\n",
      " 'BEAREG' 'LOCALE4' 'FIPSST' 'FIPSCO' 'GSTREET' 'GCITY' 'GSTATE' 'GZIP'\n",
      " 'GZIP5' 'BMF15_F' 'IMLSAD_F' 'PFND_F' 'FCT3P_F' 'USER_F' 'UNI_F'\n",
      " 'OTHER_F' 'SOURCE']\n"
     ]
    }
   ],
   "source": [
    "# File 1 (7,429 entries)\n",
    "#Museums by Discipline ART, BOT, CMU, HST, NAT, SCI, and ZAW\n",
    "f1 = pd.read_csv('MuseumFile2018_File1_Nulls.csv', encoding = \"ISO-8859-1\")\n",
    "print(f1.shape)\n",
    "print(f1.columns.get_values())"
   ]
  },
  {
   "cell_type": "code",
   "execution_count": 79,
   "metadata": {},
   "outputs": [
    {
     "name": "stdout",
     "output_type": "stream",
     "text": [
      "(7961, 58)\n"
     ]
    }
   ],
   "source": [
    "# File 2 (7,959 entries): General Museums and Related Organizations GMU (i.e., general museums)\n",
    "f2 = pd.read_csv('MuseumFile2018_File2_Nulls.csv', encoding = \"ISO-8859-1\")\n",
    "print(f2.shape)"
   ]
  },
  {
   "cell_type": "code",
   "execution_count": 38,
   "metadata": {},
   "outputs": [
    {
     "name": "stdout",
     "output_type": "stream",
     "text": [
      "(14786, 58)\n",
      "(14785, 58)\n"
     ]
    }
   ],
   "source": [
    "# File 3 (14,783 entries): Historical Societies/Historic Preservation HSC\n",
    "f3 = pd.read_csv('MuseumFile2018_File3_Nulls.csv', encoding = \"ISO-8859-1\")\n",
    "print(f3.shape)\n",
    "# has extra empty row (row 0)\n",
    "f3.drop(0, inplace=True)\n",
    "print(f3.shape)"
   ]
  },
  {
   "cell_type": "code",
   "execution_count": 80,
   "metadata": {},
   "outputs": [
    {
     "data": {
      "text/plain": [
       "Text(0.5, 1.0, 'Museum Survey Disciplines')"
      ]
     },
     "execution_count": 80,
     "metadata": {},
     "output_type": "execute_result"
    },
    {
     "data": {
      "image/png": "[encoded data removed]",
      "text/plain": [
       "<Figure size 432x288 with 1 Axes>"
      ]
     },
     "metadata": {
      "needs_background": "light"
     },
     "output_type": "display_data"
    }
   ],
   "source": [
    "fig1 = f1['DISCIPL'].value_counts().plot(kind=\"bar\")\n",
    "fig1.set_xlabel(\"Discipline\")\n",
    "fig1.set_ylabel(\"Count\")\n",
    "fig1.set_title(\"Museum Survey Disciplines\")"
   ]
  },
  {
   "cell_type": "code",
   "execution_count": 86,
   "metadata": {},
   "outputs": [
    {
     "name": "stdout",
     "output_type": "stream",
     "text": [
      "      5366\n",
      "CA     168\n",
      "TX     152\n",
      "NY     141\n",
      "FL      99\n",
      "PA      80\n",
      "IL      68\n",
      "MI      68\n",
      "OH      67\n",
      "VA      64\n",
      "NC      61\n",
      "MA      52\n",
      "WA      51\n",
      "WI      51\n",
      "CO      45\n",
      "MD      43\n",
      "IN      42\n",
      "NJ      41\n",
      "MN      40\n",
      "TN      38\n",
      "AL      36\n",
      "LA      35\n",
      "OR      34\n",
      "CT      33\n",
      "GA      33\n",
      "KS      31\n",
      "MO      31\n",
      "SC      30\n",
      "KY      29\n",
      "ME      26\n",
      "MT      25\n",
      "HI      25\n",
      "NM      24\n",
      "AZ      24\n",
      "NE      22\n",
      "IA      22\n",
      "UT      22\n",
      "AK      20\n",
      "OK      20\n",
      "AR      19\n",
      "WY      19\n",
      "DC      19\n",
      "MS      17\n",
      "WV      15\n",
      "RI      13\n",
      "ID      12\n",
      "NV      12\n",
      "VT      12\n",
      "NH      11\n",
      "DE       9\n",
      "ND       7\n",
      "SD       7\n",
      "Name: PHSTATE, dtype: int64\n"
     ]
    },
    {
     "data": {
      "text/plain": [
       "Text(0.5, 1.0, 'Museum Survey States Distribution')"
      ]
     },
     "execution_count": 86,
     "metadata": {},
     "output_type": "execute_result"
    },
    {
     "data": {
      "image/png": "[encoded data removed]",
      "text/plain": [
       "<Figure size 864x360 with 1 Axes>"
      ]
     },
     "metadata": {
      "needs_background": "light"
     },
     "output_type": "display_data"
    }
   ],
   "source": [
    "# Check state distribution of museums\n",
    "print(f1['PHSTATE'].value_counts())\n",
    "fig2 = f1['PHSTATE'].value_counts().plot(kind=\"bar\", figsize = (12,5))\n",
    "fig2.set_xlabel(\"State\")\n",
    "fig2.set_ylabel(\"Count\")\n",
    "fig2.set_title(\"Museum Survey States Distribution\")\n"
   ]
  },
  {
   "cell_type": "code",
   "execution_count": 108,
   "metadata": {},
   "outputs": [
    {
     "name": "stdout",
     "output_type": "stream",
     "text": [
      "['MID' 'DISCIPL' 'EIN' 'CO_LOC_RES' 'NTEEC' 'DUNS' 'NAICS' 'COMMONNAME'\n",
      " 'LEGALNAME' 'ALTNAME' 'AKADBA' 'ADSTREET' 'ADCITY' 'ADSTATE' 'ADZIP'\n",
      " 'ADZIP5' 'PHSTREET' 'PHCITY' 'PHSTATE' 'PHZIP' 'PHZIP5' 'PHONE' 'WEBURL'\n",
      " 'IRS_NAME15' 'TAXPER15' 'INCOMECD15' 'INCOME15' 'REVENUE15'\n",
      " 'IRS_STREET15' 'IRS_CITY15' 'IRS_STATE15' 'IRS_ZIP15' 'RULEDATE15'\n",
      " 'IPEDS' 'INSTNAME' 'INSTCITY' 'INSTST' 'LONGITUDE' 'LATITUDE' 'AAMREG'\n",
      " 'BEAREG' 'LOCALE4' 'FIPSST' 'FIPSCO' 'GSTREET' 'GCITY' 'GSTATE' 'GZIP'\n",
      " 'GZIP5' 'BMF15_F' 'IMLSAD_F' 'PFND_F' 'FCT3P_F' 'USER_F' 'UNI_F'\n",
      " 'OTHER_F' 'SOURCE']\n",
      "                                    LEGALNAME          PHSTREET      PHCITY  \\\n",
      "0                THE MOBILE MUSEUM OF ART INC    4850 MUSEUM DR      MOBILE   \n",
      "1  MONTGOMERY MUSEUM OF FINE ARTS ASSOCIATION  ONE MUSEUM DRIVE  MONTGOMERY   \n",
      "2                   MOBILE MEDICAL MUSEUM INC                                 \n",
      "3     JASMINE HILL GARDENS AND OUTDOOR MUSEUM                                 \n",
      "4                     JAN DEMPSEY ARTS CENTER                                 \n",
      "\n",
      "  PHSTATE       PHZIP PHZIP5 INSTST  LONGITUDE  LATITUDE  \n",
      "0      AL  36689-0426  36689         -88.15462  30.70401  \n",
      "1      AL       36117  36117          -86.2087   32.3526  \n",
      "2                                    -88.07704  30.69234  \n",
      "3                                     -86.1874  32.49562  \n",
      "4                                     -85.4782  32.61408  \n"
     ]
    }
   ],
   "source": [
    "#print(f1['PHSTATE'].head())\n",
    "#print(f1['PHZIP'].head())\n",
    "print(f1.columns.get_values())\n",
    "#print(f1['COMMONNAME'].head())\n",
    "print(f1[['LEGALNAME','PHSTREET','PHCITY','PHSTATE','PHZIP','PHZIP5', 'INSTST','LONGITUDE','LATITUDE']].head())"
   ]
  },
  {
   "cell_type": "code",
   "execution_count": 116,
   "metadata": {},
   "outputs": [
    {
     "name": "stdout",
     "output_type": "stream",
     "text": [
      "(5366, 57)\n"
     ]
    }
   ],
   "source": [
    "f_check = f1[f1['PHSTATE'] == ' ']\n",
    "print(f_check.shape)\n",
    "#f_check[['LEGALNAME','PHSTREET','PHCITY','PHSTATE','PHZIP','PHZIP5', 'INSTST','LONGITUDE','LATITUDE']]"
   ]
  },
  {
   "cell_type": "code",
   "execution_count": 129,
   "metadata": {},
   "outputs": [],
   "source": [
    "# Plan: use geocoding to apply and get missing latitude and longitude\n",
    "api_key = ''\n",
    "with open(\"geocoding_api_key.txt\", 'r') as f:\n",
    "    api_key = f.read()\n",
    "    \n",
    "f.close()\n",
    "#print(api_key)"
   ]
  },
  {
   "cell_type": "code",
   "execution_count": null,
   "metadata": {},
   "outputs": [],
   "source": []
  },
  {
   "cell_type": "code",
   "execution_count": null,
   "metadata": {},
   "outputs": [],
   "source": []
  }
 ],
 "metadata": {
  "kernelspec": {
   "display_name": "Python 3",
   "language": "python",
   "name": "python3"
  },
  "language_info": {
   "codemirror_mode": {
    "name": "ipython",
    "version": 3
   },
   "file_extension": ".py",
   "mimetype": "text/x-python",
   "name": "python",
   "nbconvert_exporter": "python",
   "pygments_lexer": "ipython3",
   "version": "3.7.3"
  }
 },
 "nbformat": 4,
 "nbformat_minor": 2
}
