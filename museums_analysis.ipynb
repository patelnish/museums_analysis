{
 "cells": [
  {
   "cell_type": "code",
   "execution_count": 9,
   "metadata": {},
   "outputs": [],
   "source": [
    "import pandas as pd\n",
    "import numpy as np\n",
    "import matplotlib.pyplot as plt\n",
    "import os\n",
    "import json\n",
    "import requests\n",
    "import re\n",
    "from tqdm import tqdm\n",
    "import time"
   ]
  },
  {
   "cell_type": "code",
   "execution_count": null,
   "metadata": {},
   "outputs": [],
   "source": [
    "# Use reverse geocoding to use latitude and longitude to get the corresponding address components\n",
    "api_key = ''\n",
    "with open(\"geocoding_api_key.txt\", 'r') as f:\n",
    "    api_key = f.read()\n",
    "    \n",
    "f.close()\n",
    "\n",
    "# REQUIRES: latlong coordinates for api lookup, api key\n",
    "# MODIFIES: nothing \n",
    "# EFFECTS: queries google maps api to get location information\n",
    "def get_address(latlong_coordinates, api_key, problem_rows, idx):\n",
    "    street = None\n",
    "    city = None\n",
    "    state = None\n",
    "    zipcode_5 = None\n",
    "    \n",
    "    base_url = 'https://maps.googleapis.com/maps/api/geocode/json?'\n",
    "    parameters = {'latlng':latlong_coordinates, 'key':api_key}\n",
    "    \n",
    "    try:\n",
    "        response = requests.get(base_url, params=parameters)\n",
    "        #print(response)\n",
    "        full_address = response.json()['results'][0]['formatted_address']\n",
    "\n",
    "        address_components = full_address.split(',')\n",
    "        street = address_components[0]\n",
    "        city = address_components[1]\n",
    "        state_zip = address_components[2]\n",
    "\n",
    "        # extract state and zipcode\n",
    "        state = re.search('[A-Z]{2}', state_zip)[0]\n",
    "        zipcode_5 = re.search('\\\\d{5}', state_zip)[0]\n",
    "\n",
    "    except:\n",
    "        print(\"Problem processing row \", idx, \"- add to problem_rows list\")\n",
    "        problem_rows.append(idx)\n",
    "        \n",
    "    return street, city, state, zipcode_5, problem_rows"
   ]
  },
  {
   "cell_type": "code",
   "execution_count": 2,
   "metadata": {},
   "outputs": [
    {
     "name": "stdout",
     "output_type": "stream",
     "text": [
      "(7431, 57)\n",
      "          MID DISCIPL        EIN  CO_LOC_RES NTEEC       DUNS   NAICS  \\\n",
      "0  8400100026     ART  631162561               A51  121013382  712110   \n",
      "1  8400100029     ART  636049847               A51  075471300  712110   \n",
      "2  8400100036     HST  631106693               A80  140201547  712110   \n",
      "3  8400100037     BOT             ART MUSEUM                            \n",
      "4  8400100045     ART                               804569858           \n",
      "\n",
      "                                COMMONNAME  \\\n",
      "0                     MOBILE MUSEUM OF ART   \n",
      "1           MONTGOMERY MUSEUM OF FINE ARTS   \n",
      "2                 HISTORY MUSEUM OF MOBILE   \n",
      "3  JASMINE HILL GARDENS AND OUTDOOR MUSEUM   \n",
      "4                  JAN DEMPSEY ARTS CENTER   \n",
      "\n",
      "                                    LEGALNAME ALTNAME  ...        GZIP  GZIP5  \\\n",
      "0                THE MOBILE MUSEUM OF ART INC          ...  36689-0426  36689   \n",
      "1  MONTGOMERY MUSEUM OF FINE ARTS ASSOCIATION          ...       36117  36117   \n",
      "2                   MOBILE MEDICAL MUSEUM INC          ...  36604-1405  36604   \n",
      "3     JASMINE HILL GARDENS AND OUTDOOR MUSEUM          ...       36093  36093   \n",
      "4                     JAN DEMPSEY ARTS CENTER          ...       36830  36830   \n",
      "\n",
      "  BMF15_F IMLSAD_F PFND_F  FCT3P_F USER_F UNI_F OTHER_F SOURCE  \n",
      "0       1        1      0        0      0     0       0         \n",
      "1       1        1      0        0      0     0       0         \n",
      "2       1        1      0        0      0     0       0         \n",
      "3       0        0      0        1      0     0       0         \n",
      "4       0        0      0        1      0     0       0         \n",
      "\n",
      "[5 rows x 57 columns]\n",
      "['MID' 'DISCIPL' 'EIN' 'CO_LOC_RES' 'NTEEC' 'DUNS' 'NAICS' 'COMMONNAME'\n",
      " 'LEGALNAME' 'ALTNAME' 'AKADBA' 'ADSTREET' 'ADCITY' 'ADSTATE' 'ADZIP'\n",
      " 'ADZIP5' 'PHSTREET' 'PHCITY' 'PHSTATE' 'PHZIP' 'PHZIP5' 'PHONE' 'WEBURL'\n",
      " 'IRS_NAME15' 'TAXPER15' 'INCOMECD15' 'INCOME15' 'REVENUE15'\n",
      " 'IRS_STREET15' 'IRS_CITY15' 'IRS_STATE15' 'IRS_ZIP15' 'RULEDATE15'\n",
      " 'IPEDS' 'INSTNAME' 'INSTCITY' 'INSTST' 'LONGITUDE' 'LATITUDE' 'AAMREG'\n",
      " 'BEAREG' 'LOCALE4' 'FIPSST' 'FIPSCO' 'GSTREET' 'GCITY' 'GSTATE' 'GZIP'\n",
      " 'GZIP5' 'BMF15_F' 'IMLSAD_F' 'PFND_F' 'FCT3P_F' 'USER_F' 'UNI_F'\n",
      " 'OTHER_F' 'SOURCE']\n"
     ]
    }
   ],
   "source": [
    "# File 1 (7,429 entries)\n",
    "#Museums by Discipline ART, BOT, CMU, HST, NAT, SCI, and ZAW\n",
    "f1 = pd.read_csv('MuseumFile2018_File1_Nulls.csv', encoding = \"ISO-8859-1\")\n",
    "print(f1.shape)\n",
    "print(f1.head())\n",
    "print(f1.columns.get_values())"
   ]
  },
  {
   "cell_type": "code",
   "execution_count": null,
   "metadata": {},
   "outputs": [],
   "source": [
    "# File 2 (7,959 entries): General Museums and Related Organizations GMU (i.e., general museums)\n",
    "f2 = pd.read_csv('MuseumFile2018_File2_Nulls.csv', encoding = \"ISO-8859-1\")\n",
    "print(f2.shape)\n",
    "print(f2.head())"
   ]
  },
  {
   "cell_type": "code",
   "execution_count": null,
   "metadata": {},
   "outputs": [],
   "source": [
    "# File 3 (14,783 entries): Historical Societies/Historic Preservation HSC\n",
    "f3 = pd.read_csv('MuseumFile2018_File3_Nulls.csv', encoding = \"ISO-8859-1\")\n",
    "print(f3.shape)\n",
    "# has extra empty row (row 0)\n",
    "f3.drop(0, inplace=True)\n",
    "print(f3.shape)\n",
    "print(f3.head())"
   ]
  },
  {
   "cell_type": "code",
   "execution_count": null,
   "metadata": {},
   "outputs": [],
   "source": [
    "fig1 = f1['DISCIPL'].value_counts().plot(kind=\"bar\")\n",
    "fig1.set_xlabel(\"Discipline\")\n",
    "fig1.set_ylabel(\"Count\")\n",
    "fig1.set_title(\"Museum Survey Disciplines\")"
   ]
  },
  {
   "cell_type": "code",
   "execution_count": null,
   "metadata": {},
   "outputs": [],
   "source": [
    "# Check state distribution of museums\n",
    "print(f1['PHSTATE'].value_counts())\n",
    "fig2 = f1['PHSTATE'].value_counts().plot(kind=\"bar\", figsize = (12,5))\n",
    "fig2.set_xlabel(\"State\")\n",
    "fig2.set_ylabel(\"Count\")\n",
    "fig2.set_title(\"Museum Survey States Distribution\")"
   ]
  },
  {
   "cell_type": "code",
   "execution_count": null,
   "metadata": {},
   "outputs": [],
   "source": [
    "#print(f1['PHSTATE'].head())\n",
    "#print(f1['PHZIP'].head())\n",
    "print(f1.columns.get_values())\n",
    "#print(f1['COMMONNAME'].head())\n",
    "print(f1[['LEGALNAME','PHSTREET','PHCITY','PHSTATE','PHZIP','PHZIP5', 'INSTST','LONGITUDE','LATITUDE']].head())"
   ]
  },
  {
   "cell_type": "code",
   "execution_count": null,
   "metadata": {},
   "outputs": [],
   "source": [
    "f_check = f1[f1['PHSTATE'] == ' ']\n",
    "print(f_check.shape)\n",
    "f_check[['LEGALNAME','PHSTREET','PHCITY','PHSTATE','PHZIP','PHZIP5', 'INSTST','LONGITUDE','LATITUDE']]\n"
   ]
  },
  {
   "cell_type": "code",
   "execution_count": 5,
   "metadata": {},
   "outputs": [],
   "source": []
  },
  {
   "cell_type": "code",
   "execution_count": 6,
   "metadata": {},
   "outputs": [],
   "source": []
  },
  {
   "cell_type": "code",
   "execution_count": null,
   "metadata": {},
   "outputs": [
    {
     "name": "stderr",
     "output_type": "stream",
     "text": [
      "\r",
      "0it [00:00, ?it/s]"
     ]
    },
    {
     "name": "stdout",
     "output_type": "stream",
     "text": [
      "idx is  0\n"
     ]
    },
    {
     "name": "stderr",
     "output_type": "stream",
     "text": [
      "38it [00:12,  3.06it/s]"
     ]
    },
    {
     "name": "stdout",
     "output_type": "stream",
     "text": [
      "Problem processing row  38 - add to problem_rows list\n"
     ]
    },
    {
     "name": "stderr",
     "output_type": "stream",
     "text": [
      "76it [00:25,  3.05it/s]"
     ]
    },
    {
     "name": "stdout",
     "output_type": "stream",
     "text": [
      "Problem processing row  76 - add to problem_rows list\n"
     ]
    },
    {
     "name": "stderr",
     "output_type": "stream",
     "text": [
      "135it [00:43,  3.21it/s]"
     ]
    },
    {
     "name": "stdout",
     "output_type": "stream",
     "text": [
      "Problem processing row  135 - add to problem_rows list\n"
     ]
    },
    {
     "name": "stderr",
     "output_type": "stream",
     "text": [
      "276it [01:28,  3.25it/s]"
     ]
    }
   ],
   "source": [
    "problem_rows = []\n",
    "for idx, row in tqdm(f1.iterrows()):\n",
    "    if idx % 1000 == 0:\n",
    "        print(\"idx is \", idx)\n",
    "    \n",
    "    latlong_coordinates =  row['LATITUDE'] + ',' + row['LONGITUDE']\n",
    "    \n",
    "    \n",
    "    street, city, state, zipcode_5, problem_rows = get_address(latlong_coordinates, api_key, problem_rows, idx)\n",
    "    \n",
    "    f1.at[idx , 'PHSTREET'] = street\n",
    "    f1.at[idx , 'PHCITY'] = street\n",
    "    f1.at[idx , 'PHSTATE'] = state\n",
    "    f1.at[idx , 'PHZIP5'] = zipcode_5\n",
    "    "
   ]
  },
  {
   "cell_type": "code",
   "execution_count": 4,
   "metadata": {},
   "outputs": [
    {
     "data": {
      "text/plain": [
       "(7431, 57)"
      ]
     },
     "execution_count": 4,
     "metadata": {},
     "output_type": "execute_result"
    }
   ],
   "source": [
    "f1.shape"
   ]
  }
 ],
 "metadata": {
  "kernelspec": {
   "display_name": "Python 3",
   "language": "python",
   "name": "python3"
  },
  "language_info": {
   "codemirror_mode": {
    "name": "ipython",
    "version": 3
   },
   "file_extension": ".py",
   "mimetype": "text/x-python",
   "name": "python",
   "nbconvert_exporter": "python",
   "pygments_lexer": "ipython3",
   "version": "3.7.3"
  }
 },
 "nbformat": 4,
 "nbformat_minor": 2
}
